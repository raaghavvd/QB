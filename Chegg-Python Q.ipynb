{
 "cells": [
  {
   "cell_type": "code",
   "execution_count": 22,
   "metadata": {},
   "outputs": [
    {
     "name": "stdout",
     "output_type": "stream",
     "text": [
      "great expectations,1861,£13.21\n",
      "christmas carol,1894,£12.87\n",
      "hunger games,2000,£13.14\n",
      "winds,1998,£11.05\n",
      "\n",
      "Enter names of all books you wish to buy, seperated by comma\n",
      "great expectations,christmas carol,hunger games\n",
      "\n",
      "the purchase of great expectations,christmas carol,hunger games should have the total of £36.01\n"
     ]
    }
   ],
   "source": [
    "collection = [{\n",
    "    \"name\":\"great expectations\",\n",
    "    \"year\":1861,\n",
    "    \"price\":13.21\n",
    "},\n",
    "{\n",
    "    \"name\":\"christmas carol\",\n",
    "    \"year\":1894,\n",
    "    \"price\":12.87\n",
    "},\n",
    "{\n",
    "    \"name\":\"hunger games\",\n",
    "    \"year\":2000,\n",
    "    \"price\":13.14\n",
    "},\n",
    "{\n",
    "    \"name\":\"winds\",\n",
    "    \"year\":1998,\n",
    "    \"price\":11.05\n",
    "}]\n",
    "\n",
    "for x in collection:\n",
    "    print(x['name']+','+str(x['year'])+',£'+str(x['price']))\n",
    "\n",
    "print('\\nEnter names of all books you wish to buy, seperated by comma')\n",
    "userInput = input()\n",
    "purchase = userInput.split(',')\n",
    "\n",
    "total=0\n",
    "for x in purchase:\n",
    "    for y in collection:\n",
    "        if y['name'] == x:\n",
    "            finalBookPrice = y['price']*9/10 if(y['year']==2000) else y['price']\n",
    "            total += finalBookPrice\n",
    "if total>30:\n",
    "    total = total * 19/20\n",
    "total = round(total,2)\n",
    "print('\\nthe purchase of '+userInput+' should have the total of £'+str(total))"
   ]
  },
  {
   "cell_type": "code",
   "execution_count": null,
   "metadata": {},
   "outputs": [],
   "source": []
  },
  {
   "cell_type": "code",
   "execution_count": null,
   "metadata": {},
   "outputs": [],
   "source": []
  },
  {
   "cell_type": "code",
   "execution_count": null,
   "metadata": {},
   "outputs": [],
   "source": []
  },
  {
   "cell_type": "code",
   "execution_count": null,
   "metadata": {},
   "outputs": [],
   "source": []
  },
  {
   "cell_type": "code",
   "execution_count": null,
   "metadata": {},
   "outputs": [],
   "source": []
  },
  {
   "cell_type": "code",
   "execution_count": null,
   "metadata": {},
   "outputs": [],
   "source": []
  },
  {
   "cell_type": "code",
   "execution_count": null,
   "metadata": {},
   "outputs": [],
   "source": []
  },
  {
   "cell_type": "code",
   "execution_count": null,
   "metadata": {},
   "outputs": [],
   "source": []
  },
  {
   "cell_type": "code",
   "execution_count": null,
   "metadata": {},
   "outputs": [],
   "source": []
  },
  {
   "cell_type": "code",
   "execution_count": null,
   "metadata": {},
   "outputs": [],
   "source": []
  }
 ],
 "metadata": {
  "kernelspec": {
   "display_name": "Python 3",
   "language": "python",
   "name": "python3"
  },
  "language_info": {
   "codemirror_mode": {
    "name": "ipython",
    "version": 3
   },
   "file_extension": ".py",
   "mimetype": "text/x-python",
   "name": "python",
   "nbconvert_exporter": "python",
   "pygments_lexer": "ipython3",
   "version": "3.7.3"
  }
 },
 "nbformat": 4,
 "nbformat_minor": 2
}
